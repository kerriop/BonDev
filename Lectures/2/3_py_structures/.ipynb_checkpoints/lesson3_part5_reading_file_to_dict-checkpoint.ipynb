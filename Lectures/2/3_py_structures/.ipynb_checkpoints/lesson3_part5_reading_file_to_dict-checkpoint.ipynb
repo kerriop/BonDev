{
 "cells": [
  {
   "cell_type": "markdown",
   "metadata": {},
   "source": [
    "<center>\n",
    "<img src=\"../img/python_theme.png\">\n",
    "# MLClass. \"Прикладной анализ данных\"\n",
    "# Модуль \"Инструментарий Data Science\"\n",
    "<img src=\"../img/mlclass_logo.jpg\" height=\"240\" width=\"240\">\n",
    "\n",
    "## Автор материала: Юрий Кашницкий, ФКН НИУ ВШЭ\n",
    "</center>\n",
    "Материал распространяется на условиях лицензии <a href=\"https://opensource.org/licenses/MS-RL\">Ms-RL</a>. Можно использовать в любых целях, кроме коммерческих, но с обязательным упоминанием автора материала."
   ]
  },
  {
   "cell_type": "markdown",
   "metadata": {},
   "source": [
    "# Урок 3. Структуры данных I"
   ]
  },
  {
   "cell_type": "markdown",
   "metadata": {},
   "source": [
    "## Часть 5. Пример чтения данных из файла в словарь"
   ]
  },
  {
   "cell_type": "code",
   "execution_count": 1,
   "metadata": {
    "collapsed": true
   },
   "outputs": [],
   "source": [
    "# Python 2 and 3 compatibility\n",
    "# pip install future\n",
    "from __future__ import (absolute_import, division,\n",
    "                        print_function, unicode_literals)\n",
    "from builtins import *"
   ]
  },
  {
   "cell_type": "markdown",
   "metadata": {},
   "source": [
    "Предположим, есть файл с данными клиентов банка (пока не рассматриваем чтение из базы данных). В качестве простого примера воьзьмем txt-файл следующего содержания:\n",
    "___________________________________________\n",
    "lastname,age,debt,occupation\n",
    "\n",
    "Adrianov,25,30000,artist\n",
    "\n",
    "Belkin,42,4000,programmer\n",
    "\n",
    "Koltunov,32,100,sportsman \n",
    "___________________________________________"
   ]
  },
  {
   "cell_type": "code",
   "execution_count": 2,
   "metadata": {},
   "outputs": [
    {
     "name": "stdout",
     "output_type": "stream",
     "text": [
      "lastname,age,debt,occupation\n",
      "\n",
      "[u'Adrianov', u'25', u'30000', u'artist']\n",
      "[u'Belkin', u'42', u'4000', u'programmer']\n",
      "[u'Koltunov', u'32', u'100', u'sportsman']\n",
      "[u'Loptev', u'25', u'30000', u'artist']\n",
      "[u'Bobrov', u'42', u'4000', u'programmer']\n",
      "[u'Karelin', u'32', u'100', u'sportsman']\n"
     ]
    }
   ],
   "source": [
    "credit_history_file = open('../data/credit_sample.txt', 'r')\n",
    "\n",
    "print(credit_history_file.readline())\n",
    "\n",
    "for line in credit_history_file:\n",
    "    line = line.strip().split(\",\")\n",
    "    print(line)"
   ]
  },
  {
   "cell_type": "code",
   "execution_count": 3,
   "metadata": {},
   "outputs": [
    {
     "name": "stdout",
     "output_type": "stream",
     "text": [
      "lastname,age,debt,occupation\n",
      "\n",
      "{u'Loptev': (25, 30000, u'artist'), u'Koltunov': (32, 100, u'sportsman'), u'Belkin': (42, 4000, u'programmer'), u'Adrianov': (25, 30000, u'artist'), u'Karelin': (32, 100, u'sportsman'), u'Bobrov': (42, 4000, u'programmer')}\n"
     ]
    }
   ],
   "source": [
    "credit_history_file = open('../data/credit_sample.txt', 'r')\n",
    "\n",
    "# let's for now just skip the heading\n",
    "first_line = credit_history_file.readline()\n",
    "print(first_line)\n",
    "\n",
    "credit_history_dict = {}\n",
    "\n",
    "for line in credit_history_file:\n",
    "    lastname, age, debt, occupation = line.strip().split(\",\")\n",
    "    credit_history_dict[lastname] = (int(age), \n",
    "                                     int(debt), \n",
    "                                     occupation) \n",
    "print(credit_history_dict)\n",
    "    \n",
    "credit_history_file.close()"
   ]
  },
  {
   "cell_type": "markdown",
   "metadata": {},
   "source": [
    "Теперь можем добавлять записи в словарь вручную"
   ]
  },
  {
   "cell_type": "code",
   "execution_count": 4,
   "metadata": {},
   "outputs": [
    {
     "name": "stdout",
     "output_type": "stream",
     "text": [
      "Markin,34,500,journalist\n",
      "quit\n",
      "{u'Loptev': (25, 30000, u'artist'), u'Koltunov': (32, 100, u'sportsman'), u'Belkin': (42, 4000, u'programmer'), u'Adrianov': (25, 30000, u'artist'), u'Karelin': (32, 100, u'sportsman'), u'Markin': (34, 500, u'journalist'), u'Bobrov': (42, 4000, u'programmer')}\n"
     ]
    }
   ],
   "source": [
    "# adding clients by hand\n",
    "# Markin,34,500,journalist\n",
    "line = ''\n",
    "while(line != 'quit'):\n",
    "    line = input().strip()\n",
    "    if line == 'quit':\n",
    "        break\n",
    "    else:   # line != 'quit' \n",
    "        lastname, age, debt, occupation = line.split(\",\") \n",
    "        credit_history_dict[lastname] = (int(age), \n",
    "                                     int(debt), \n",
    "                                     occupation)\n",
    "print(credit_history_dict)  \n",
    "\n"
   ]
  }
 ],
 "metadata": {
  "kernelspec": {
   "display_name": "Python 3",
   "language": "python",
   "name": "python3"
  },
  "language_info": {
   "codemirror_mode": {
    "name": "ipython",
    "version": 3
   },
   "file_extension": ".py",
   "mimetype": "text/x-python",
   "name": "python",
   "nbconvert_exporter": "python",
   "pygments_lexer": "ipython3",
   "version": "3.6.5"
  },
  "name": "from_file_to_dict.ipynb"
 },
 "nbformat": 4,
 "nbformat_minor": 1
}
